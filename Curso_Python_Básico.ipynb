{
  "nbformat": 4,
  "nbformat_minor": 0,
  "metadata": {
    "colab": {
      "name": "Curso Python Básico.ipynb",
      "provenance": [],
      "include_colab_link": true
    },
    "kernelspec": {
      "name": "python3",
      "display_name": "Python 3"
    }
  },
  "cells": [
    {
      "cell_type": "markdown",
      "metadata": {
        "id": "view-in-github",
        "colab_type": "text"
      },
      "source": [
        "<a href=\"https://colab.research.google.com/github/profmaddo/formacao-python-basico/blob/master/Curso_Python_B%C3%A1sico.ipynb\" target=\"_parent\"><img src=\"https://colab.research.google.com/assets/colab-badge.svg\" alt=\"Open In Colab\"/></a>"
      ]
    },
    {
      "cell_type": "code",
      "metadata": {
        "id": "53tVepRtFInn",
        "colab_type": "code",
        "colab": {
          "base_uri": "https://localhost:8080/",
          "height": 34
        },
        "outputId": "e912ab89-ce41-4b3c-96c3-cfce75ea3a33"
      },
      "source": [
        "print(\"Olá, bem vindo ao mundo da programação Python\")"
      ],
      "execution_count": 49,
      "outputs": [
        {
          "output_type": "stream",
          "text": [
            "Olá, bem vindo ao mundo da programação Python\n"
          ],
          "name": "stdout"
        }
      ]
    },
    {
      "cell_type": "code",
      "metadata": {
        "id": "F1knPD8PLYyt",
        "colab_type": "code",
        "colab": {
          "base_uri": "https://localhost:8080/",
          "height": 34
        },
        "outputId": "69d46ea4-9443-4d1e-d43c-fc8db843a4c2"
      },
      "source": [
        "mensagem = \"Olá, bem vindo ao mundo da programação Python... :)\"\n",
        "print(mensagem)"
      ],
      "execution_count": 50,
      "outputs": [
        {
          "output_type": "stream",
          "text": [
            "Olá, bem vindo ao mundo da programação Python... :)\n"
          ],
          "name": "stdout"
        }
      ]
    },
    {
      "cell_type": "code",
      "metadata": {
        "id": "L78ww__zYuNS",
        "colab_type": "code",
        "colab": {
          "base_uri": "https://localhost:8080/",
          "height": 51
        },
        "outputId": "e25a272c-b834-4742-a64e-3a9fccaef9fb"
      },
      "source": [
        "mensagem = input(\"Por favor, digite um texto qualquer: \")\n",
        "print(\"Você digitou: \"+mensagem)"
      ],
      "execution_count": 32,
      "outputs": [
        {
          "output_type": "stream",
          "text": [
            "Por favor, digite um texto qualquer: Teste\n",
            "Você digitou: Teste\n"
          ],
          "name": "stdout"
        }
      ]
    },
    {
      "cell_type": "code",
      "metadata": {
        "id": "55tdvM4ryvtM",
        "colab_type": "code",
        "colab": {
          "base_uri": "https://localhost:8080/",
          "height": 34
        },
        "outputId": "3463cbaf-8dca-4632-ab9a-7545ce1a03e8"
      },
      "source": [
        "mensagem = \"Olá, bem vindo ao mundo da programação Python... :)\"\n",
        "print(mensagem.lower())"
      ],
      "execution_count": 51,
      "outputs": [
        {
          "output_type": "stream",
          "text": [
            "olá, bem vindo ao mundo da programação python... :)\n"
          ],
          "name": "stdout"
        }
      ]
    },
    {
      "cell_type": "code",
      "metadata": {
        "id": "hwUbFk_8zCOj",
        "colab_type": "code",
        "colab": {
          "base_uri": "https://localhost:8080/",
          "height": 34
        },
        "outputId": "8ceb163d-7263-47e0-bcdf-2a45d6b1a763"
      },
      "source": [
        "mensagem = \"Olá, bem vindo ao mundo da programação Python... :)\"\n",
        "print(mensagem.title())"
      ],
      "execution_count": 34,
      "outputs": [
        {
          "output_type": "stream",
          "text": [
            "Olá, Bem Vindo Ao Mundo Da Programação Python... :)\n"
          ],
          "name": "stdout"
        }
      ]
    },
    {
      "cell_type": "code",
      "metadata": {
        "id": "3x9W3m37zLW8",
        "colab_type": "code",
        "colab": {
          "base_uri": "https://localhost:8080/",
          "height": 34
        },
        "outputId": "b9a0a2f1-6d20-4cea-df20-8736ef1b58a0"
      },
      "source": [
        "mensagem = \"Olá, bem vindo ao mundo da programação Python... :)\"\n",
        "print(mensagem.upper())"
      ],
      "execution_count": 35,
      "outputs": [
        {
          "output_type": "stream",
          "text": [
            "OLÁ, BEM VINDO AO MUNDO DA PROGRAMAÇÃO PYTHON... :)\n"
          ],
          "name": "stdout"
        }
      ]
    },
    {
      "cell_type": "code",
      "metadata": {
        "id": "XzLJPT2o-JvU",
        "colab_type": "code",
        "colab": {
          "base_uri": "https://localhost:8080/",
          "height": 85
        },
        "outputId": "f58eed6c-f5d3-4c24-f74c-dbe34861bea6"
      },
      "source": [
        "nome = input(\"Digite seu nome: \")\n",
        "telefone = input(\"Digite se número de telefone: \")\n",
        "email = input(\"Digite seu melhor e-mail: \")\n",
        "print(\"Nome: \"+nome+\" - Telefone: \"+telefone+\" - email: \"+email)"
      ],
      "execution_count": 36,
      "outputs": [
        {
          "output_type": "stream",
          "text": [
            "Digite seu nome: Maddo\n",
            "Digite se número de telefone: 86868686\n",
            "Digite seu melhor e-mail: teste@teste\n",
            "Nome: Maddo - Telefone: 86868686 - email: teste@teste\n"
          ],
          "name": "stdout"
        }
      ]
    },
    {
      "cell_type": "code",
      "metadata": {
        "id": "4Zp9gljY7PWR",
        "colab_type": "code",
        "colab": {
          "base_uri": "https://localhost:8080/",
          "height": 85
        },
        "outputId": "a6c8d8e7-07f0-4607-abd2-237f9ae99aec"
      },
      "source": [
        "primeironome = input(\"Digite seu nome: \")\n",
        "telefone = input(\"Digite se número de telefone: \")\n",
        "email = input(\"Digite seu melhor e-mail: \")\n",
        "textoDigitado = \"Nome: %s - Telefone: %s - e-mail: %s\" % (primeironome, telefone, email)\n",
        "print(textoDigitado)"
      ],
      "execution_count": 52,
      "outputs": [
        {
          "output_type": "stream",
          "text": [
            "Digite seu nome: Maddo\n",
            "Digite se número de telefone: 9796969696\n",
            "Digite seu melhor e-mail: teste@teste.com\n",
            "Nome: Maddo - Telefone: 9796969696 - e-mail: teste@teste.com\n"
          ],
          "name": "stdout"
        }
      ]
    },
    {
      "cell_type": "code",
      "metadata": {
        "id": "wcNNjlUpC_yM",
        "colab_type": "code",
        "colab": {
          "base_uri": "https://localhost:8080/",
          "height": 238
        },
        "outputId": "81c7f209-a75d-4c0f-a77a-ae7d18cb4c6f"
      },
      "source": [
        "help(\"keywords\")"
      ],
      "execution_count": 53,
      "outputs": [
        {
          "output_type": "stream",
          "text": [
            "\n",
            "Here is a list of the Python keywords.  Enter any keyword to get more help.\n",
            "\n",
            "False               def                 if                  raise\n",
            "None                del                 import              return\n",
            "True                elif                in                  try\n",
            "and                 else                is                  while\n",
            "as                  except              lambda              with\n",
            "assert              finally             nonlocal            yield\n",
            "break               for                 not                 \n",
            "class               from                or                  \n",
            "continue            global              pass                \n",
            "\n"
          ],
          "name": "stdout"
        }
      ]
    },
    {
      "cell_type": "code",
      "metadata": {
        "id": "vGo9pAUbQTnk",
        "colab_type": "code",
        "colab": {}
      },
      "source": [
        "valorA = 10\n",
        "valorB = int(20.55)\n",
        "valorC = int(valorA + valorB)\n",
        "print(valorA,valorB, valorC)\n",
        "print(type(valorA), type(valorB), type(valorC))"
      ],
      "execution_count": 0,
      "outputs": []
    },
    {
      "cell_type": "code",
      "metadata": {
        "id": "rT3fABB4b2I5",
        "colab_type": "code",
        "colab": {
          "base_uri": "https://localhost:8080/",
          "height": 102
        },
        "outputId": "639b4558-a907-4da8-bb7a-35f8ffe544fa"
      },
      "source": [
        "# Operações Aritméticas\n",
        "A = 10\n",
        "B = 20\n",
        "# Adição\n",
        "c = A + B\n",
        "print(c)\n",
        "# Subtração\n",
        "d = A - B\n",
        "print(d) \n",
        "# Multiplicação\n",
        "e = A * B\n",
        "print(e)\n",
        "# Divisão\n",
        "f = A / B\n",
        "print(f)\n",
        "# Exponenciação\n",
        "g = A ** B\n",
        "print(g)"
      ],
      "execution_count": 54,
      "outputs": [
        {
          "output_type": "stream",
          "text": [
            "30\n",
            "-10\n",
            "200\n",
            "0.5\n",
            "100000000000000000000\n"
          ],
          "name": "stdout"
        }
      ]
    },
    {
      "cell_type": "code",
      "metadata": {
        "id": "ClGdDHjupbmd",
        "colab_type": "code",
        "colab": {
          "base_uri": "https://localhost:8080/",
          "height": 51
        },
        "outputId": "0befe083-c605-4d8b-9086-945fce48db61"
      },
      "source": [
        "a = 10.37\n",
        "b = 7.75\n",
        "c = a * b\n",
        "print(c)\n",
        "resultado = \"Resultado: {:7.4f} \".format(c)\n",
        "print(resultado)"
      ],
      "execution_count": 42,
      "outputs": [
        {
          "output_type": "stream",
          "text": [
            "80.36749999999999\n",
            "Resultado: 80.3675 \n"
          ],
          "name": "stdout"
        }
      ]
    },
    {
      "cell_type": "code",
      "metadata": {
        "id": "Tv9db1jl44y5",
        "colab_type": "code",
        "colab": {
          "base_uri": "https://localhost:8080/",
          "height": 34
        },
        "outputId": "fc3b4aef-90e6-48c9-f23d-4ea61b67c5c2"
      },
      "source": [
        "a = 2+4j\n",
        "b = 6+3j\n",
        "\n",
        "c = a ** b\n",
        "\n",
        "print(c)"
      ],
      "execution_count": 43,
      "outputs": [
        {
          "output_type": "stream",
          "text": [
            "(40.56276947231532-285.9419769206543j)\n"
          ],
          "name": "stdout"
        }
      ]
    },
    {
      "cell_type": "code",
      "metadata": {
        "id": "JTXaa7Fp99D0",
        "colab_type": "code",
        "colab": {
          "base_uri": "https://localhost:8080/",
          "height": 85
        },
        "outputId": "0cd52b91-236a-4992-d6c1-29f23cda531d"
      },
      "source": [
        "a = -10.85\n",
        "b = 2\n",
        "c = 4\n",
        "\n",
        "print(int(a))\n",
        "print(complex(b))\n",
        "print(pow(b,c))\n",
        "print(int(abs(a)))"
      ],
      "execution_count": 44,
      "outputs": [
        {
          "output_type": "stream",
          "text": [
            "-10\n",
            "(2+0j)\n",
            "16\n",
            "10\n"
          ],
          "name": "stdout"
        }
      ]
    },
    {
      "cell_type": "code",
      "metadata": {
        "id": "mSsx6hYyI8jT",
        "colab_type": "code",
        "colab": {
          "base_uri": "https://localhost:8080/",
          "height": 51
        },
        "outputId": "0c7488ab-9825-40a2-c63d-85ab1bde3ec5"
      },
      "source": [
        "# hex 16\n",
        "# 0123456789abcdef\n",
        "\n",
        "# oct 8\n",
        "\n",
        "# 255 = ff  \n",
        "\n",
        "print(oct(10))\n",
        "print(hex(255))\n"
      ],
      "execution_count": 45,
      "outputs": [
        {
          "output_type": "stream",
          "text": [
            "0o12\n",
            "0xff\n"
          ],
          "name": "stdout"
        }
      ]
    },
    {
      "cell_type": "code",
      "metadata": {
        "id": "GiXQuhTrucX1",
        "colab_type": "code",
        "colab": {}
      },
      "source": [
        "a = 12.5678985\n",
        "print(round(a,6))\n"
      ],
      "execution_count": 0,
      "outputs": []
    },
    {
      "cell_type": "code",
      "metadata": {
        "id": "IiakIZtJJdXO",
        "colab_type": "code",
        "colab": {}
      },
      "source": [
        "# Operadores lógicos\n",
        "# and - or - not\n",
        "a = 21\n",
        "b = 24\n",
        "c = not((not a))\n",
        "print(c)"
      ],
      "execution_count": 0,
      "outputs": []
    },
    {
      "cell_type": "code",
      "metadata": {
        "id": "rYmOGzsmZYOA",
        "colab_type": "code",
        "outputId": "55c9b803-f5f8-4b5b-d60e-5d22f3b7bb3e",
        "colab": {
          "base_uri": "https://localhost:8080/",
          "height": 136
        }
      },
      "source": [
        "# saldo é R$ 100,00\n",
        "# pode sacar qualquer valor até R$ 100,00\n",
        "# sacar R$ 80,00 - ok saldo restante R$ 20,00\n",
        "# sacar R$ 10,00 - ok saldo restante R$ 10,00\n",
        "# sacar R$ 25,00 - negado sem saldo\n",
        "# IF ELSE\n",
        "saldo = 100\n",
        "\n",
        "if saldo>=0: print(\" Seu Saldo Atual é R$ %d \" % (saldo))\n",
        "\n",
        "if saldo<0: print(\" Seu Saldo Atual é (negativo) R$ %d \" % (saldo))\n",
        "\n",
        "valorSaque = 80\n",
        "\n",
        "if saldo-valorSaque>=0: print(\"Saque efetuado - R$ %d \" % (valorSaque))\n",
        "\n",
        "saldo = saldo - valorSaque\n",
        "\n",
        "if saldo>=0: print(\" Seu Saldo Atual é R$ %d \" % (saldo))\n",
        "\n",
        "valorSaque = 10\n",
        "\n",
        "if saldo-valorSaque>=0: print(\"Saque efetuado - R$ %d \" % (valorSaque))\n",
        "\n",
        "saldo = saldo - valorSaque\n",
        "\n",
        "if saldo>=0: print(\" Seu Saldo Atual é R$ %d \" % (saldo))\n",
        "\n",
        "valorSaque = 25\n",
        "\n",
        "if saldo-valorSaque<0: \n",
        "  print(\"Saque não efetuado no valor de R$ %d \" % (valorSaque))\n",
        "\n",
        "if saldo>=0: print(\" Seu Saldo Atual é R$ %d \" % (saldo))\n",
        "\n"
      ],
      "execution_count": 0,
      "outputs": [
        {
          "output_type": "stream",
          "text": [
            " Seu Saldo Atual é R$ 100 \n",
            "Saque efetuado - R$ 80 \n",
            " Seu Saldo Atual é R$ 20 \n",
            "Saque efetuado - R$ 10 \n",
            " Seu Saldo Atual é R$ 10 \n",
            "Saque não efetuado no valor de R$ 25 \n",
            " Seu Saldo Atual é R$ 10 \n"
          ],
          "name": "stdout"
        }
      ]
    },
    {
      "cell_type": "code",
      "metadata": {
        "id": "cn8YFAXeD439",
        "colab_type": "code",
        "colab": {
          "base_uri": "https://localhost:8080/",
          "height": 119
        },
        "outputId": "7a6b1140-e813-4115-9a48-751a48a5833e"
      },
      "source": [
        "# saldo é R$ 100,00\n",
        "# pode sacar qualquer valor até R$ 100,00\n",
        "# sacar R$ 80,00 - ok saldo restante R$ 20,00\n",
        "# sacar R$ 10,00 - ok saldo restante R$ 10,00\n",
        "# sacar R$ 25,00 - negado sem saldo\n",
        "# IF ELSE IF\n",
        "\n",
        "saldo = 100\n",
        "\n",
        "if saldo>=0:\n",
        "   print(\" Seu Saldo Atual é R$ %d \" % (saldo))\n",
        "else:\n",
        "   print(\" Seu Saldo Atual é (negativo) R$ %d \" % (saldo))\n",
        "\n",
        "valorSaque = 80\n",
        "\n",
        "if (saldo-valorSaque)>=0: \n",
        "  print(\"Saque efetuado - R$ %d \" % (valorSaque))\n",
        "  saldo = saldo - valorSaque\n",
        "  print(\" Seu Saldo Atual é R$ %d \" % (saldo))\n",
        "else:\n",
        "  print(\" Seu Saldo Atual é R$ %d \" % (saldo))\n",
        "  print(\" Saque não efetuado no valor de R$ %d \" % (valorSaque))\n",
        "\n",
        "\n",
        "valorSaque = 10\n",
        "\n",
        "if (saldo-valorSaque)>=0: \n",
        "  print(\"Saque efetuado - R$ %d \" % (valorSaque))\n",
        "  saldo = saldo - valorSaque\n",
        "  print(\" Seu Saldo Atual é R$ %d \" % (saldo))\n",
        "else:\n",
        "  print(\" Seu Saldo Atual é R$ %d \" % (saldo))\n",
        "  print(\" Saque não efetuado no valor de R$ %d \" % (valorSaque))\n",
        "\n",
        "\n",
        "valorSaque = 25\n",
        "\n",
        "if (saldo-valorSaque)>=0: \n",
        "  print(\"Saque efetuado - R$ %d \" % (valorSaque))\n",
        "  saldo = saldo - valorSaque\n",
        "  print(\" Seu Saldo Atual é R$ %d \" % (saldo))\n",
        "else:  \n",
        "  print(\" Saque não efetuado no valor de R$ %d \" % (valorSaque))\n"
      ],
      "execution_count": 47,
      "outputs": [
        {
          "output_type": "stream",
          "text": [
            " Seu Saldo Atual é R$ 100 \n",
            "Saque efetuado - R$ 80 \n",
            " Seu Saldo Atual é R$ 20 \n",
            "Saque efetuado - R$ 10 \n",
            " Seu Saldo Atual é R$ 10 \n",
            " Saque não efetuado no valor de R$ 25 \n"
          ],
          "name": "stdout"
        }
      ]
    },
    {
      "cell_type": "code",
      "metadata": {
        "id": "oaI5o0MoFGL3",
        "colab_type": "code",
        "colab": {
          "base_uri": "https://localhost:8080/",
          "height": 51
        },
        "outputId": "45cd999b-51af-49f9-94e1-863f5beb732d"
      },
      "source": [
        "# saldo é R$ 100,00\n",
        "# limite especial R$ 200,00\n",
        "# \n",
        "# if elif else\n",
        "\n",
        "saldo = 0\n",
        "limite = 0\n",
        "\n",
        "if (saldo>0):\n",
        "  print(\"Saldo atual sem limite é: R$ %d \" % (saldo))\n",
        "elif (limite>0):\n",
        "  print(\"Saldo no limite é: R$ %d \" % (limite))\n",
        "else:\n",
        "  print(\"Saldo atual sem limite é: R$ %d \" % (saldo))\n",
        "  print(\"Saldo do limite é: R$ %d \" % (limite))"
      ],
      "execution_count": 48,
      "outputs": [
        {
          "output_type": "stream",
          "text": [
            "Saldo atual sem limite é: R$ 0 \n",
            "Saldo do limite é: R$ 0 \n"
          ],
          "name": "stdout"
        }
      ]
    },
    {
      "cell_type": "code",
      "metadata": {
        "id": "OCBjKc0lgQRp",
        "colab_type": "code",
        "colab": {}
      },
      "source": [
        "# while \n",
        "# for\n",
        "\n",
        "numero = 0\n",
        "\n",
        "while numero <10:\n",
        "  print(\"Número %d \" % (numero))\n",
        "  numero = numero + 1 \n",
        "print(\"Fim do processamento com o Loop While\")"
      ],
      "execution_count": 0,
      "outputs": []
    },
    {
      "cell_type": "code",
      "metadata": {
        "id": "zSRmDJATmFN2",
        "colab_type": "code",
        "colab": {}
      },
      "source": [
        "# coleta de dados valor sempre positivo\n",
        "# quantidade de vendas - contador\n",
        "# valor médio das vendas\n",
        "# valor total das vendas\n",
        "\n",
        "# enquanto o número -1\n",
        "\n",
        "dadoVenda = 0\n",
        "contador = 0\n",
        "valorMedioDasVendas = 0\n",
        "valorTotalDasVendas = 0\n",
        "\n",
        "while dadoVenda>=0:\n",
        "   dadoVenda = int(input(\"Digite o valor da venda, ou -1 para finalizar.\\n\"))\n",
        "   if dadoVenda>=0:\n",
        "    contador = contador + 1\n",
        "    valorTotalDasVendas = valorTotalDasVendas + dadoVenda\n",
        "valorMedioDasVendas = valorTotalDasVendas / contador\n",
        "print(\"Total das Vendas: %d \" % (valorTotalDasVendas))\n",
        "print(\"Média das Vendas: %d \" % (valorMedioDasVendas))\n",
        "print(\"Quantida de vendas: %d \" % (contador))"
      ],
      "execution_count": 0,
      "outputs": []
    },
    {
      "cell_type": "code",
      "metadata": {
        "id": "n-Lztwi2uGDG",
        "colab_type": "code",
        "colab": {}
      },
      "source": [
        "# laço for simples\n",
        "# sequencia = [10,12,13,14,15,16]\n",
        "# for x in sequencia:\n",
        "     # codigo\n",
        "     # codigo\n",
        "     # codigo\n",
        "\n",
        "sequencia = [10,11,12,13,14,15,16]\n",
        "for x in sequencia:\n",
        "    print(\"Número: %d \" % (x))"
      ],
      "execution_count": 0,
      "outputs": []
    },
    {
      "cell_type": "code",
      "metadata": {
        "id": "3H_d6GsDxY5Q",
        "colab_type": "code",
        "colab": {
          "base_uri": "https://localhost:8080/",
          "height": 153
        },
        "outputId": "fa77293d-f148-43bb-8436-163c7082a24b"
      },
      "source": [
        "# laço for simples com tuplas\n",
        "# tupla = [10,\"Laranja\",13]\n",
        "# for x in sequencia:\n",
        "     # codigo\n",
        "     # codigo\n",
        "     # codigo\n",
        "\n",
        "tupla = [10,\"Laranja\",13,\"Carro\",2+4j,0xff, 0o22, \"Marco Maddo\"]\n",
        "for x in tupla:\n",
        "    print(\"Registro: \",x)"
      ],
      "execution_count": 29,
      "outputs": [
        {
          "output_type": "stream",
          "text": [
            "Registro:  10\n",
            "Registro:  Laranja\n",
            "Registro:  13\n",
            "Registro:  Carro\n",
            "Registro:  (2+4j)\n",
            "Registro:  255\n",
            "Registro:  18\n",
            "Registro:  Marco Maddo\n"
          ],
          "name": "stdout"
        }
      ]
    }
  ]
}