{
  "nbformat": 4,
  "nbformat_minor": 0,
  "metadata": {
    "colab": {
      "name": "Curso Python Básico.ipynb",
      "provenance": [],
      "include_colab_link": true
    },
    "kernelspec": {
      "name": "python3",
      "display_name": "Python 3"
    }
  },
  "cells": [
    {
      "cell_type": "markdown",
      "metadata": {
        "id": "view-in-github",
        "colab_type": "text"
      },
      "source": [
        "<a href=\"https://colab.research.google.com/github/profmaddo/formacao-python-basico/blob/master/Curso_Python_B%C3%A1sico.ipynb\" target=\"_parent\"><img src=\"https://colab.research.google.com/assets/colab-badge.svg\" alt=\"Open In Colab\"/></a>"
      ]
    },
    {
      "cell_type": "code",
      "metadata": {
        "id": "53tVepRtFInn",
        "colab_type": "code",
        "outputId": "db71ef47-1521-49b6-df6e-9077d56c119f",
        "colab": {
          "base_uri": "https://localhost:8080/",
          "height": 34
        }
      },
      "source": [
        "print(\"Olá, bem vindo ao mundo da programação Python\")"
      ],
      "execution_count": 0,
      "outputs": [
        {
          "output_type": "stream",
          "text": [
            "Olá, bem vindo ao mundo da programação Python\n"
          ],
          "name": "stdout"
        }
      ]
    },
    {
      "cell_type": "code",
      "metadata": {
        "id": "F1knPD8PLYyt",
        "colab_type": "code",
        "outputId": "4718b27a-44e1-4570-e9c2-27f4d58bf860",
        "colab": {
          "base_uri": "https://localhost:8080/",
          "height": 34
        }
      },
      "source": [
        "mensagem = \"Olá, bem vindo ao mundo da programação Python... :)\"\n",
        "print(mensagem)"
      ],
      "execution_count": 0,
      "outputs": [
        {
          "output_type": "stream",
          "text": [
            "Olá, bem vindo ao mundo da programação Python... :)\n"
          ],
          "name": "stdout"
        }
      ]
    },
    {
      "cell_type": "code",
      "metadata": {
        "id": "L78ww__zYuNS",
        "colab_type": "code",
        "outputId": "d040f21e-6f7b-4681-c2a9-27961817c3df",
        "colab": {
          "base_uri": "https://localhost:8080/",
          "height": 51
        }
      },
      "source": [
        "mensagem = input(\"Por favor, digite um texto qualquer: \")\n",
        "print(\"Você digitou: \"+mensagem)"
      ],
      "execution_count": 0,
      "outputs": [
        {
          "output_type": "stream",
          "text": [
            "Por favor, digite um texto qualquer: Olá, bem vindo ao mundo da digitação de textos em Python via teclado.... :)\n",
            "Você digitou: Olá, bem vindo ao mundo da digitação de textos em Python via teclado.... :)\n"
          ],
          "name": "stdout"
        }
      ]
    },
    {
      "cell_type": "code",
      "metadata": {
        "id": "55tdvM4ryvtM",
        "colab_type": "code",
        "colab": {
          "base_uri": "https://localhost:8080/",
          "height": 34
        },
        "outputId": "42f7559c-a083-4764-a803-44a252b39340"
      },
      "source": [
        "mensagem = \"Olá, bem vindo ao mundo da programação Python... :)\"\n",
        "print(mensagem.lower())"
      ],
      "execution_count": 16,
      "outputs": [
        {
          "output_type": "stream",
          "text": [
            "olá, bem vindo ao mundo da programação python... :)\n"
          ],
          "name": "stdout"
        }
      ]
    },
    {
      "cell_type": "code",
      "metadata": {
        "id": "hwUbFk_8zCOj",
        "colab_type": "code",
        "colab": {
          "base_uri": "https://localhost:8080/",
          "height": 34
        },
        "outputId": "c118a734-c18d-40ae-c6b9-7ae1ba59c3a2"
      },
      "source": [
        "mensagem = \"Olá, bem vindo ao mundo da programação Python... :)\"\n",
        "print(mensagem.title())"
      ],
      "execution_count": 17,
      "outputs": [
        {
          "output_type": "stream",
          "text": [
            "Olá, Bem Vindo Ao Mundo Da Programação Python... :)\n"
          ],
          "name": "stdout"
        }
      ]
    },
    {
      "cell_type": "code",
      "metadata": {
        "id": "3x9W3m37zLW8",
        "colab_type": "code",
        "colab": {
          "base_uri": "https://localhost:8080/",
          "height": 34
        },
        "outputId": "fb887978-6fa1-4b1b-8c3b-526783c82eb3"
      },
      "source": [
        "mensagem = \"Olá, bem vindo ao mundo da programação Python... :)\"\n",
        "print(mensagem.upper())"
      ],
      "execution_count": 18,
      "outputs": [
        {
          "output_type": "stream",
          "text": [
            "OLÁ, BEM VINDO AO MUNDO DA PROGRAMAÇÃO PYTHON... :)\n"
          ],
          "name": "stdout"
        }
      ]
    },
    {
      "cell_type": "code",
      "metadata": {
        "id": "XzLJPT2o-JvU",
        "colab_type": "code",
        "colab": {
          "base_uri": "https://localhost:8080/",
          "height": 85
        },
        "outputId": "dfd5583b-5be6-4443-8449-5d1c4aa53fcc"
      },
      "source": [
        "nome = input(\"Digite seu nome: \")\n",
        "telefone = input(\"Digite se número de telefone: \")\n",
        "email = input(\"Digite seu melhor e-mail: \")\n",
        "print(\"Nome: \"+nome+\" - Telefone: \"+telefone+\" - email: \"+email)"
      ],
      "execution_count": 19,
      "outputs": [
        {
          "output_type": "stream",
          "text": [
            "Digite seu nome: Maddo\n",
            "Digite se número de telefone: 929291122\n",
            "Digite seu melhor e-mail: teste@teste.com\n",
            "Nome: Maddo - Telefone: 929291122 - email: teste@teste.com\n"
          ],
          "name": "stdout"
        }
      ]
    }
  ]
}