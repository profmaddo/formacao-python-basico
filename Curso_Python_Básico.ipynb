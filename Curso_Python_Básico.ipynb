{
  "nbformat": 4,
  "nbformat_minor": 0,
  "metadata": {
    "colab": {
      "name": "Curso Python Básico.ipynb",
      "provenance": [],
      "include_colab_link": true
    },
    "kernelspec": {
      "name": "python3",
      "display_name": "Python 3"
    }
  },
  "cells": [
    {
      "cell_type": "markdown",
      "metadata": {
        "id": "view-in-github",
        "colab_type": "text"
      },
      "source": [
        "<a href=\"https://colab.research.google.com/github/profmaddo/formacao-python-basico/blob/master/Curso_Python_B%C3%A1sico.ipynb\" target=\"_parent\"><img src=\"https://colab.research.google.com/assets/colab-badge.svg\" alt=\"Open In Colab\"/></a>"
      ]
    },
    {
      "cell_type": "code",
      "metadata": {
        "id": "53tVepRtFInn",
        "colab_type": "code",
        "colab": {}
      },
      "source": [
        "print(\"Olá, bem vindo ao mundo da programação Python\")"
      ],
      "execution_count": 0,
      "outputs": []
    },
    {
      "cell_type": "code",
      "metadata": {
        "id": "F1knPD8PLYyt",
        "colab_type": "code",
        "colab": {}
      },
      "source": [
        "mensagem = \"Olá, bem vindo ao mundo da programação Python... :)\"\n",
        "print(mensagem)"
      ],
      "execution_count": 0,
      "outputs": []
    },
    {
      "cell_type": "code",
      "metadata": {
        "id": "L78ww__zYuNS",
        "colab_type": "code",
        "colab": {}
      },
      "source": [
        "mensagem = input(\"Por favor, digite um texto qualquer: \")\n",
        "print(\"Você digitou: \"+mensagem)"
      ],
      "execution_count": 0,
      "outputs": []
    },
    {
      "cell_type": "code",
      "metadata": {
        "id": "55tdvM4ryvtM",
        "colab_type": "code",
        "colab": {}
      },
      "source": [
        "mensagem = \"Olá, bem vindo ao mundo da programação Python... :)\"\n",
        "print(mensagem.lower())"
      ],
      "execution_count": 0,
      "outputs": []
    },
    {
      "cell_type": "code",
      "metadata": {
        "id": "hwUbFk_8zCOj",
        "colab_type": "code",
        "colab": {}
      },
      "source": [
        "mensagem = \"Olá, bem vindo ao mundo da programação Python... :)\"\n",
        "print(mensagem.title())"
      ],
      "execution_count": 0,
      "outputs": []
    },
    {
      "cell_type": "code",
      "metadata": {
        "id": "3x9W3m37zLW8",
        "colab_type": "code",
        "colab": {}
      },
      "source": [
        "mensagem = \"Olá, bem vindo ao mundo da programação Python... :)\"\n",
        "print(mensagem.upper())"
      ],
      "execution_count": 0,
      "outputs": []
    },
    {
      "cell_type": "code",
      "metadata": {
        "id": "XzLJPT2o-JvU",
        "colab_type": "code",
        "colab": {}
      },
      "source": [
        "nome = input(\"Digite seu nome: \")\n",
        "telefone = input(\"Digite se número de telefone: \")\n",
        "email = input(\"Digite seu melhor e-mail: \")\n",
        "print(\"Nome: \"+nome+\" - Telefone: \"+telefone+\" - email: \"+email)"
      ],
      "execution_count": 0,
      "outputs": []
    },
    {
      "cell_type": "code",
      "metadata": {
        "id": "4Zp9gljY7PWR",
        "colab_type": "code",
        "colab": {}
      },
      "source": [
        "primeironome = input(\"Digite seu nome: \")\n",
        "telefone = input(\"Digite se número de telefone: \")\n",
        "email = input(\"Digite seu melhor e-mail: \")\n",
        "textoDigitado = \"Nome: %s - Telefone: %s - e-mail: %s\" % (primeironome, telefone, email)\n",
        "print(textoDigitado)"
      ],
      "execution_count": 0,
      "outputs": []
    },
    {
      "cell_type": "code",
      "metadata": {
        "id": "wcNNjlUpC_yM",
        "colab_type": "code",
        "colab": {}
      },
      "source": [
        "help(\"keywords\")"
      ],
      "execution_count": 0,
      "outputs": []
    },
    {
      "cell_type": "code",
      "metadata": {
        "id": "vGo9pAUbQTnk",
        "colab_type": "code",
        "colab": {}
      },
      "source": [
        "valorA = 10\n",
        "valorB = int(20.55)\n",
        "valorC = int(valorA + valorB)\n",
        "print(valorA,valorB, valorC)\n",
        "print(type(valorA), type(valorB), type(valorC))"
      ],
      "execution_count": 0,
      "outputs": []
    },
    {
      "cell_type": "code",
      "metadata": {
        "id": "rT3fABB4b2I5",
        "colab_type": "code",
        "colab": {}
      },
      "source": [
        "# Operações Aritméticas\n",
        "A = 10\n",
        "B = 20\n",
        "# Adição\n",
        "c = A + B\n",
        "print(c)\n",
        "# Subtração\n",
        "d = A - B\n",
        "print(d) \n",
        "# Multiplicação\n",
        "e = A * B\n",
        "print(e)\n",
        "# Divisão\n",
        "f = A / B\n",
        "print(f)\n",
        "# Exponenciação\n",
        "g = A ** B\n",
        "print(g)"
      ],
      "execution_count": 0,
      "outputs": []
    },
    {
      "cell_type": "code",
      "metadata": {
        "id": "ClGdDHjupbmd",
        "colab_type": "code",
        "colab": {}
      },
      "source": [
        "a = 10.37\n",
        "b = 7.75\n",
        "c = a * b\n",
        "print(c)\n",
        "resultado = \"Resultado: {:7.4f} \".format(c)\n",
        "print(resultado)"
      ],
      "execution_count": 0,
      "outputs": []
    },
    {
      "cell_type": "code",
      "metadata": {
        "id": "Tv9db1jl44y5",
        "colab_type": "code",
        "colab": {}
      },
      "source": [
        "a = 2+4j\n",
        "b = 6+3j\n",
        "\n",
        "c = a ** b\n",
        "\n",
        "print(c)"
      ],
      "execution_count": 0,
      "outputs": []
    },
    {
      "cell_type": "code",
      "metadata": {
        "id": "JTXaa7Fp99D0",
        "colab_type": "code",
        "colab": {}
      },
      "source": [
        "a = -10.85\n",
        "b = 2\n",
        "c = 4\n",
        "\n",
        "print(int(a))\n",
        "print(complex(b))\n",
        "print(pow(b,c))\n",
        "print(int(abs(a)))"
      ],
      "execution_count": 0,
      "outputs": []
    },
    {
      "cell_type": "code",
      "metadata": {
        "id": "mSsx6hYyI8jT",
        "colab_type": "code",
        "colab": {}
      },
      "source": [
        "# hex 16\n",
        "# 0123456789abcdef\n",
        "\n",
        "# oct 8\n",
        "\n",
        "# 255 = ff  \n",
        "\n",
        "print(oct(10))\n",
        "print(hex(255))\n"
      ],
      "execution_count": 0,
      "outputs": []
    },
    {
      "cell_type": "code",
      "metadata": {
        "id": "GiXQuhTrucX1",
        "colab_type": "code",
        "colab": {}
      },
      "source": [
        "a = 12.5678985\n",
        "print(round(a,6))\n"
      ],
      "execution_count": 0,
      "outputs": []
    },
    {
      "cell_type": "code",
      "metadata": {
        "id": "IiakIZtJJdXO",
        "colab_type": "code",
        "colab": {}
      },
      "source": [
        "# Operadores lógicos\n",
        "# and - or - not\n",
        "a = 21\n",
        "b = 24\n",
        "c = not((not a))\n",
        "print(c)"
      ],
      "execution_count": 0,
      "outputs": []
    },
    {
      "cell_type": "code",
      "metadata": {
        "id": "rYmOGzsmZYOA",
        "colab_type": "code",
        "outputId": "55c9b803-f5f8-4b5b-d60e-5d22f3b7bb3e",
        "colab": {
          "base_uri": "https://localhost:8080/",
          "height": 136
        }
      },
      "source": [
        "# saldo é R$ 100,00\n",
        "# pode sacar qualquer valor até R$ 100,00\n",
        "# sacar R$ 80,00 - ok saldo restante R$ 20,00\n",
        "# sacar R$ 10,00 - ok saldo restante R$ 10,00\n",
        "# sacar R$ 25,00 - negado sem saldo\n",
        "# IF ELSE\n",
        "saldo = 100\n",
        "\n",
        "if saldo>=0: print(\" Seu Saldo Atual é R$ %d \" % (saldo))\n",
        "\n",
        "if saldo<0: print(\" Seu Saldo Atual é (negativo) R$ %d \" % (saldo))\n",
        "\n",
        "valorSaque = 80\n",
        "\n",
        "if saldo-valorSaque>=0: print(\"Saque efetuado - R$ %d \" % (valorSaque))\n",
        "\n",
        "saldo = saldo - valorSaque\n",
        "\n",
        "if saldo>=0: print(\" Seu Saldo Atual é R$ %d \" % (saldo))\n",
        "\n",
        "valorSaque = 10\n",
        "\n",
        "if saldo-valorSaque>=0: print(\"Saque efetuado - R$ %d \" % (valorSaque))\n",
        "\n",
        "saldo = saldo - valorSaque\n",
        "\n",
        "if saldo>=0: print(\" Seu Saldo Atual é R$ %d \" % (saldo))\n",
        "\n",
        "valorSaque = 25\n",
        "\n",
        "if saldo-valorSaque<0: \n",
        "  print(\"Saque não efetuado no valor de R$ %d \" % (valorSaque))\n",
        "\n",
        "if saldo>=0: print(\" Seu Saldo Atual é R$ %d \" % (saldo))\n",
        "\n"
      ],
      "execution_count": 0,
      "outputs": [
        {
          "output_type": "stream",
          "text": [
            " Seu Saldo Atual é R$ 100 \n",
            "Saque efetuado - R$ 80 \n",
            " Seu Saldo Atual é R$ 20 \n",
            "Saque efetuado - R$ 10 \n",
            " Seu Saldo Atual é R$ 10 \n",
            "Saque não efetuado no valor de R$ 25 \n",
            " Seu Saldo Atual é R$ 10 \n"
          ],
          "name": "stdout"
        }
      ]
    },
    {
      "cell_type": "code",
      "metadata": {
        "id": "cn8YFAXeD439",
        "colab_type": "code",
        "colab": {}
      },
      "source": [
        "# saldo é R$ 100,00\n",
        "# pode sacar qualquer valor até R$ 100,00\n",
        "# sacar R$ 80,00 - ok saldo restante R$ 20,00\n",
        "# sacar R$ 10,00 - ok saldo restante R$ 10,00\n",
        "# sacar R$ 25,00 - negado sem saldo\n",
        "# IF ELSE IF\n",
        "\n",
        "saldo = 100\n",
        "\n",
        "if saldo>=0:\n",
        "   print(\" Seu Saldo Atual é R$ %d \" % (saldo))\n",
        "else:\n",
        "   print(\" Seu Saldo Atual é (negativo) R$ %d \" % (saldo))\n",
        "\n",
        "valorSaque = 80\n",
        "\n",
        "if (saldo-valorSaque)>=0: \n",
        "  print(\"Saque efetuado - R$ %d \" % (valorSaque))\n",
        "  saldo = saldo - valorSaque\n",
        "  print(\" Seu Saldo Atual é R$ %d \" % (saldo))\n",
        "else:\n",
        "  print(\" Seu Saldo Atual é R$ %d \" % (saldo))\n",
        "  print(\" Saque não efetuado no valor de R$ %d \" % (valorSaque))\n",
        "\n",
        "\n",
        "valorSaque = 10\n",
        "\n",
        "if (saldo-valorSaque)>=0: \n",
        "  print(\"Saque efetuado - R$ %d \" % (valorSaque))\n",
        "  saldo = saldo - valorSaque\n",
        "  print(\" Seu Saldo Atual é R$ %d \" % (saldo))\n",
        "else:\n",
        "  print(\" Seu Saldo Atual é R$ %d \" % (saldo))\n",
        "  print(\" Saque não efetuado no valor de R$ %d \" % (valorSaque))\n",
        "\n",
        "\n",
        "valorSaque = 25\n",
        "\n",
        "if (saldo-valorSaque)>=0: \n",
        "  print(\"Saque efetuado - R$ %d \" % (valorSaque))\n",
        "  saldo = saldo - valorSaque\n",
        "  print(\" Seu Saldo Atual é R$ %d \" % (saldo))\n",
        "else:  \n",
        "  print(\" Saque não efetuado no valor de R$ %d \" % (valorSaque))\n"
      ],
      "execution_count": 0,
      "outputs": []
    },
    {
      "cell_type": "code",
      "metadata": {
        "id": "oaI5o0MoFGL3",
        "colab_type": "code",
        "colab": {}
      },
      "source": [
        "# saldo é R$ 100,00\n",
        "# limite especial R$ 200,00\n",
        "# \n",
        "# if elif else\n",
        "\n",
        "saldo = 0\n",
        "limite = 0\n",
        "\n",
        "if (saldo>0):\n",
        "  print(\"Saldo atual sem limite é: R$ %d \" % (saldo))\n",
        "elif (limite>0):\n",
        "  print(\"Saldo no limite é: R$ %d \" % (limite))\n",
        "else:\n",
        "  print(\"Saldo atual sem limite é: R$ %d \" % (saldo))\n",
        "  print(\"Saldo do limite é: R$ %d \" % (limite))"
      ],
      "execution_count": 0,
      "outputs": []
    },
    {
      "cell_type": "code",
      "metadata": {
        "id": "OCBjKc0lgQRp",
        "colab_type": "code",
        "colab": {
          "base_uri": "https://localhost:8080/",
          "height": 204
        },
        "outputId": "651ec920-816c-4ff6-958f-92d4ce940cec"
      },
      "source": [
        "# while \n",
        "# for\n",
        "\n",
        "numero = 0\n",
        "\n",
        "while numero <10:\n",
        "  print(\"Número %d \" % (numero))\n",
        "  numero = numero + 1 \n",
        "print(\"Fim do processamento com o Loop While\")"
      ],
      "execution_count": 9,
      "outputs": [
        {
          "output_type": "stream",
          "text": [
            "Número 0 \n",
            "Número 1 \n",
            "Número 2 \n",
            "Número 3 \n",
            "Número 4 \n",
            "Número 5 \n",
            "Número 6 \n",
            "Número 7 \n",
            "Número 8 \n",
            "Número 9 \n",
            "Fim do processamento com o Loop While\n"
          ],
          "name": "stdout"
        }
      ]
    }
  ]
}